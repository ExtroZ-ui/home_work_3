{
 "cells": [
  {
   "cell_type": "code",
   "execution_count": 7,
   "metadata": {},
   "outputs": [
    {
     "name": "stdout",
     "output_type": "stream",
     "text": [
      "Результат для слова \"test\": es\n",
      "Результат для слова \"testing\": t\n",
      "Результат для слова \"money\": n\n",
      "Результат для слова \"read\": ea\n"
     ]
    }
   ],
   "source": [
    "def find_middle_letter(leng_string):\n",
    "    length = len(leng_string)\n",
    "    if length % 2 == 1:  # Если длина слова нечётная\n",
    "        middle_index = length // 2\n",
    "        return leng_string[middle_index]\n",
    "    else:  # Если длина слова чётная\n",
    "        middle_index1 = length // 2 - 1\n",
    "        middle_index2 = length // 2\n",
    "        return leng_string[middle_index1:middle_index2 + 1]\n",
    "\n",
    "\n",
    "while True:\n",
    "    leng_string = input(\"Введите слово: \")\n",
    "    if leng_string.lower() == 'esc':\n",
    "        break\n",
    "    else:\n",
    "        print(f'Результат для слова \"{leng_string}\": {find_middle_letter(leng_string)}')\n",
    "\n"
   ]
  },
  {
   "cell_type": "code",
   "execution_count": 8,
   "metadata": {},
   "outputs": [
    {
     "name": "stdout",
     "output_type": "stream",
     "text": [
      "Идеальные пары:\n",
      "Alex и Emma\n",
      "Arthur и Kate\n",
      "John и Kira\n",
      "Peter и Liza\n",
      "Richard и Trisha\n",
      "Внимание, кто-то может остаться без пары.\n"
     ]
    }
   ],
   "source": [
    "def find_pairs(boys, girls):\n",
    "    if len(boys) != len(girls):\n",
    "        return \"Внимание, кто-то может остаться без пары.\"\n",
    "    \n",
    "    boys.sort()\n",
    "    girls.sort()\n",
    "    \n",
    "    pairs = list(zip(boys, girls))\n",
    "    return pairs\n",
    "\n",
    "\n",
    "boys1 = ['Peter', 'Alex', 'John', 'Arthur', 'Richard']\n",
    "girls1 = ['Kate', 'Liza', 'Kira', 'Emma', 'Trisha']\n",
    "pairs1 = find_pairs(boys1, girls1)\n",
    "\n",
    "if isinstance(pairs1, str):\n",
    "    print(pairs1)\n",
    "else:\n",
    "    print(\"Идеальные пары:\")\n",
    "    for boy, girl in pairs1:\n",
    "        print(f\"{boy} и {girl}\")\n",
    "\n",
    "boys2 = ['Peter', 'Alex', 'John', 'Arthur', 'Richard', 'Michael']\n",
    "girls2 = ['Kate', 'Liza', 'Kira', 'Emma', 'Trisha']\n",
    "pairs2 = find_pairs(boys2, girls2)\n",
    "\n",
    "if isinstance(pairs2, str):\n",
    "    print(pairs2)\n",
    "else:\n",
    "    print(\"Идеальные пары:\")\n",
    "    for boy, girl in pairs2:\n",
    "        print(f\"{boy} и {girl}\")"
   ]
  }
 ],
 "metadata": {
  "kernelspec": {
   "display_name": "Python 3",
   "language": "python",
   "name": "python3"
  },
  "language_info": {
   "codemirror_mode": {
    "name": "ipython",
    "version": 3
   },
   "file_extension": ".py",
   "mimetype": "text/x-python",
   "name": "python",
   "nbconvert_exporter": "python",
   "pygments_lexer": "ipython3",
   "version": "3.12.6"
  }
 },
 "nbformat": 4,
 "nbformat_minor": 2
}
